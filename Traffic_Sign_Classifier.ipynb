{
 "cells": [
  {
   "cell_type": "markdown",
   "metadata": {},
   "source": [
    "# Self-Driving Car Engineer Nanodegree\n",
    "\n",
    "## Deep Learning\n",
    "\n",
    "## Project: Build a Traffic Sign Recognition Classifier\n",
    "\n",
    "In this notebook, a template is provided for you to implement your functionality in stages, which is required to successfully complete this project. If additional code is required that cannot be included in the notebook, be sure that the Python code is successfully imported and included in your submission if necessary. \n",
    "\n",
    "> **Note**: Once you have completed all of the code implementations, you need to finalize your work by exporting the iPython Notebook as an HTML document. Before exporting the notebook to html, all of the code cells need to have been run so that reviewers can see the final implementation and output. You can then export the notebook by using the menu above and navigating to  \\n\",\n",
    "    \"**File -> Download as -> HTML (.html)**. Include the finished document along with this notebook as your submission. \n",
    "\n",
    "In addition to implementing code, there is a writeup to complete. The writeup should be completed in a separate file, which can be either a markdown file or a pdf document. There is a [write up template](https://github.com/udacity/CarND-Traffic-Sign-Classifier-Project/blob/master/writeup_template.md) that can be used to guide the writing process. Completing the code template and writeup template will cover all of the [rubric points](https://review.udacity.com/#!/rubrics/481/view) for this project.\n",
    "\n",
    "The [rubric](https://review.udacity.com/#!/rubrics/481/view) contains \"Stand Out Suggestions\" for enhancing the project beyond the minimum requirements. The stand out suggestions are optional. If you decide to pursue the \"stand out suggestions\", you can include the code in this Ipython notebook and also discuss the results in the writeup file.\n",
    "\n",
    "\n",
    ">**Note:** Code and Markdown cells can be executed using the **Shift + Enter** keyboard shortcut. In addition, Markdown cells can be edited by typically double-clicking the cell to enter edit mode."
   ]
  },
  {
   "cell_type": "markdown",
   "metadata": {},
   "source": [
    "---\n",
    "## Step 0: Load The Data"
   ]
  },
  {
   "cell_type": "code",
   "execution_count": 54,
   "metadata": {
    "collapsed": false
   },
   "outputs": [],
   "source": [
    "# Load pickled data\n",
    "import pickle\n",
    "from sklearn.model_selection import train_test_split\n",
    "\n",
    "# TODO: Fill this in based on where you saved the training and testing data\n",
    "\n",
    "training_file = \"data/train.p\"\n",
    "testing_file  = \"data/test.p\"\n",
    "\n",
    "with open(training_file, mode='rb') as f:\n",
    "    train = pickle.load(f)\n",
    "with open(testing_file, mode='rb') as f:\n",
    "    test = pickle.load(f)\n",
    "    \n",
    "X_train, y_train = train['features'], train['labels']\n",
    "X_test,  y_test  = test['features'],  test['labels']\n",
    "\n",
    "X_train, X_validation, y_train, y_validation = train_test_split(X_train, y_train, test_size = 0.2, random_state = 0)"
   ]
  },
  {
   "cell_type": "markdown",
   "metadata": {},
   "source": [
    "---\n",
    "\n",
    "## Step 1: Dataset Summary & Exploration\n",
    "\n",
    "The pickled data is a dictionary with 4 key/value pairs:\n",
    "\n",
    "- `'features'` is a 4D array containing raw pixel data of the traffic sign images, (num examples, width, height, channels).\n",
    "- `'labels'` is a 1D array containing the label/class id of the traffic sign. The file `signnames.csv` contains id -> name mappings for each id.\n",
    "- `'sizes'` is a list containing tuples, (width, height) representing the the original width and height the image.\n",
    "- `'coords'` is a list containing tuples, (x1, y1, x2, y2) representing coordinates of a bounding box around the sign in the image. **THESE COORDINATES ASSUME THE ORIGINAL IMAGE. THE PICKLED DATA CONTAINS RESIZED VERSIONS (32 by 32) OF THESE IMAGES**\n",
    "\n",
    "Complete the basic data summary below. Use python, numpy and/or pandas methods to calculate the data summary rather than hard coding the results. For example, the [pandas shape method](http://pandas.pydata.org/pandas-docs/stable/generated/pandas.DataFrame.shape.html) might be useful for calculating some of the summary results. "
   ]
  },
  {
   "cell_type": "markdown",
   "metadata": {},
   "source": [
    "### Provide a Basic Summary of the Data Set Using Python, Numpy and/or Pandas"
   ]
  },
  {
   "cell_type": "code",
   "execution_count": 55,
   "metadata": {
    "collapsed": false
   },
   "outputs": [
    {
     "name": "stdout",
     "output_type": "stream",
     "text": [
      "Number of training examples = 27839\n",
      "Number of testing examples  = 12630\n",
      "Image data shape            = (32, 32, 3)\n",
      "Number of classes           = 43\n"
     ]
    }
   ],
   "source": [
    "### Replace each question mark with the appropriate value. \n",
    "### Use python, pandas or numpy methods rather than hard coding the results\n",
    "import pandas as pd\n",
    "\n",
    "# TODO: Number of training examples\n",
    "n_train = X_train.shape[0]\n",
    "\n",
    "# TODO: Number of testing examples.\n",
    "n_test = X_test.shape[0]\n",
    "\n",
    "# TODO: What's the shape of an traffic sign image?\n",
    "image_shape = X_test.shape[1:4]\n",
    "\n",
    "# TODO: How many unique classes/labels there are in the dataset.\n",
    "reader        = pd.read_csv('signnames.csv')\n",
    "classes_names = reader['SignName'].values\n",
    "n_classes     = len(classes_names)\n",
    "\n",
    "print(\"Number of training examples =\", n_train)\n",
    "print(\"Number of testing examples  =\", n_test)\n",
    "print(\"Image data shape            =\", image_shape)\n",
    "print(\"Number of classes           =\", n_classes)"
   ]
  },
  {
   "cell_type": "markdown",
   "metadata": {},
   "source": [
    "### Include an exploratory visualization of the dataset"
   ]
  },
  {
   "cell_type": "markdown",
   "metadata": {},
   "source": [
    "Visualize the German Traffic Signs Dataset using the pickled file(s). This is open ended, suggestions include: plotting traffic sign images, plotting the count of each sign, etc.\n",
    "\n",
    "The [Matplotlib](http://matplotlib.org/) [examples](http://matplotlib.org/examples/index.html) and [gallery](http://matplotlib.org/gallery.html) pages are a great resource for doing visualizations in Python.\n",
    "\n",
    "**NOTE:** It's recommended you start with something simple first. If you wish to do more, come back to it after you've completed the rest of the sections."
   ]
  },
  {
   "cell_type": "code",
   "execution_count": 56,
   "metadata": {
    "collapsed": false
   },
   "outputs": [
    {
     "name": "stdout",
     "output_type": "stream",
     "text": [
      "494.311700578\n"
     ]
    },
    {
     "data": {
      "text/plain": [
       "<matplotlib.text.Text at 0x7f171ed5f048>"
      ]
     },
     "execution_count": 56,
     "metadata": {},
     "output_type": "execute_result"
    },
    {
     "data": {
      "image/png": "[encoded data removed]",
      "text/plain": [
       "<matplotlib.figure.Figure at 0x7f170a99df60>"
      ]
     },
     "metadata": {},
     "output_type": "display_data"
    },
    {
     "data": {
      "image/png": "[encoded data removed]",
      "text/plain": [
       "<matplotlib.figure.Figure at 0x7f171ed37160>"
      ]
     },
     "metadata": {},
     "output_type": "display_data"
    }
   ],
   "source": [
    "### Data exploration visualization code goes here.\n",
    "### Feel free to use as many code cells as needed.\n",
    "import random\n",
    "import numpy             as np\n",
    "import matplotlib.pyplot as plt\n",
    "# Visualizations will be shown in the notebook.\n",
    "%matplotlib inline\n",
    "\n",
    "fig, axes = plt.subplots(nrows=2, ncols=4, figsize=(15, 5))\n",
    "axes = axes.ravel()\n",
    "fig.tight_layout()\n",
    "\n",
    "for i in range(8):\n",
    "    index = random.randint(0, len(X_train))\n",
    "    axes[i].imshow(X_train[index])\n",
    "    axes[i].set_title(classes_names[y_train[index]])\n",
    "    axes[i].axis('off')\n",
    "\n",
    "train_classes = np.bincount(y_train)\n",
    "test_classes  = np.bincount(y_test)\n",
    "\n",
    "print (np.std(train_classes))\n",
    "\n",
    "plt.figure(figsize=(9, 3))\n",
    "plt.bar(range(n_classes), train_classes, label=\"train\", color=\"b\", alpha=0.5)\n",
    "plt.bar(range(n_classes), test_classes,  label=\"test\",  color=\"r\", alpha=0.5)\n",
    "plt.legend(loc=\"best\")\n",
    "plt.title(\"Number of samples per class on the train and test dataset\")"
   ]
  },
  {
   "cell_type": "markdown",
   "metadata": {},
   "source": [
    "----\n",
    "\n",
    "## Step 2: Design and Test a Model Architecture\n",
    "\n",
    "Design and implement a deep learning model that learns to recognize traffic signs. Train and test your model on the [German Traffic Sign Dataset](http://benchmark.ini.rub.de/?section=gtsrb&subsection=dataset).\n",
    "\n",
    "There are various aspects to consider when thinking about this problem:\n",
    "\n",
    "- Neural network architecture\n",
    "- Play around preprocessing techniques (normalization, rgb to grayscale, etc)\n",
    "- Number of examples per label (some have more than others).\n",
    "- Generate fake data.\n",
    "\n",
    "Here is an example of a [published baseline model on this problem](http://yann.lecun.com/exdb/publis/pdf/sermanet-ijcnn-11.pdf). It's not required to be familiar with the approach used in the paper but, it's good practice to try to read papers like these.\n",
    "\n",
    "**NOTE:** The LeNet-5 implementation shown in the [classroom](https://classroom.udacity.com/nanodegrees/nd013/parts/fbf77062-5703-404e-b60c-95b78b2f3f9e/modules/6df7ae49-c61c-4bb2-a23e-6527e69209ec/lessons/601ae704-1035-4287-8b11-e2c2716217ad/concepts/d4aca031-508f-4e0b-b493-e7b706120f81) at the end of the CNN lesson is a solid starting point. You'll have to change the number of classes and possibly the preprocessing, but aside from that it's plug and play!"
   ]
  },
  {
   "cell_type": "markdown",
   "metadata": {},
   "source": [
    "### Pre-process the Data Set (normalization, grayscale, etc.)"
   ]
  },
  {
   "cell_type": "markdown",
   "metadata": {},
   "source": [
    "Use the code cell (or multiple code cells, if necessary) to implement the first step of your project."
   ]
  },
  {
   "cell_type": "code",
   "execution_count": 58,
   "metadata": {
    "collapsed": false
   },
   "outputs": [],
   "source": [
    "### Preprocess the data here. Preprocessing steps could include normalization, converting to grayscale, etc.\n",
    "### Feel free to use as many code cells as needed.\n",
    "import tensorflow as tf\n",
    "import cv2\n",
    "from sklearn.utils import shuffle\n",
    "\n",
    "def dummy_transformation(image_data):\n",
    "    return image_data\n",
    "\n",
    "def gaussian_blur(image_data):\n",
    "    return cv2.GaussianBlur(image_data, (3,3), 0)\n",
    "\n",
    "def blur(image_data):\n",
    "    return cv2.blur(image_data, (2,2))\n",
    "\n",
    "def random_rotation(image_data, base_angle):\n",
    "    angle   = np.random.uniform(-base_angle, base_angle)\n",
    "    image_w = image_data.shape[0]\n",
    "    image_h = image_data.shape[1]\n",
    "    matrix  = cv2.getRotationMatrix2D((image_h / 2, image_w / 2), angle, 1)\n",
    "    return cv2.warpAffine(image_data, matrix, (image_h, image_w))\n",
    "    \n",
    "def random_translation(image_data, x_max_trans, y_max_trans):\n",
    "    image_w = image_data.shape[0]\n",
    "    image_h = image_data.shape[1]\n",
    "    tr_x    = np.random.uniform(-x_max_trans, x_max_trans) * x_max_trans\n",
    "    tr_y    = np.random.uniform(-y_max_trans, y_max_trans) * y_max_trans\n",
    "    matrix  = np.float32([[1, 0, tr_x], [0, 1, tr_y]])\n",
    "    return cv2.warpAffine(image_data, matrix, (image_h, image_w))\n",
    "\n",
    "def transform_image(image_data):\n",
    "    #smoothing_choices = [ dummy_transformation, gaussian_blur, blur, dummy_transformation ]\n",
    "    distorted_image   = random_translation(image_data, 0.70, 0.70)\n",
    "    distorted_image   = random_rotation(image_data, 30)\n",
    "    #distorted_image   = random.choice(smoothing_choices)(distorted_image)\n",
    "    return distorted_image\n",
    "\n",
    "def normalize_image_dataset(data):\n",
    "    data = (data - np.mean(data)) / np.std(data)  \n",
    "    return data\n",
    "\n",
    "def generate_batch(x_set, y_set, num_samples, batch_size):\n",
    "    n_samples    = x_set.shape[0]\n",
    "    x_pool       = []\n",
    "    y_pool       = []\n",
    "    image_offset = 0\n",
    "    \n",
    "    while True:\n",
    "        image_offset = image_offset % n_samples\n",
    "        img, label   = x_set[image_offset], y_set[image_offset]\n",
    "        \n",
    "        x_pool.append(img)\n",
    "        y_pool.append(label)\n",
    "        \n",
    "        if (num_samples > 0):\n",
    "            for _ in range(num_samples):\n",
    "                x_pool.append(transform_image(img))\n",
    "                y_pool.append(label)\n",
    "            \n",
    "        if len(x_pool) >= batch_size:\n",
    "            x_batch = normalize_image_dataset(np.array(x_pool[:batch_size]))\n",
    "            y_batch = np.array(y_pool[:batch_size])\n",
    "            x_pool  = x_pool[batch_size:]\n",
    "            y_pool  = y_pool[batch_size:]\n",
    "            yield shuffle(x_batch, y_batch)\n",
    "            \n",
    "        image_offset += 1\n",
    "\n",
    "input_depth      = X_train.shape[3]\n",
    "X_train, y_train = shuffle(X_train, y_train)"
   ]
  },
  {
   "cell_type": "markdown",
   "metadata": {},
   "source": [
    "### Model Architecture"
   ]
  },
  {
   "cell_type": "code",
   "execution_count": 59,
   "metadata": {
    "collapsed": false
   },
   "outputs": [],
   "source": [
    "PADDING_SAME  = 'SAME'\n",
    "PADDING_VALID = 'VALID'\n",
    "\n",
    "def get_tensor(shape):\n",
    "    # Returns a tensor with the given shape.\n",
    "    return tf.Variable(tf.truncated_normal(shape, mean = 0, stddev = 0.1))\n",
    "\n",
    "def get_zero_tensor(shape):\n",
    "    # Returns a tensor filled with zeroes with the given shape.\n",
    "    return tf.Variable(tf.zeros(shape))\n",
    "\n",
    "def get_convolution2D(x, shape, stride, padding):\n",
    "    # returns a 2D convolution\n",
    "    w    = get_tensor(shape)\n",
    "    b    = get_zero_tensor(shape[-1])\n",
    "    conv = tf.nn.conv2d(x, w, strides=[1, stride, stride, 1], padding = padding)\n",
    "    conv = tf.nn.bias_add(conv, b)\n",
    "    return conv\n",
    "\n",
    "def get_relu(x):\n",
    "    # returns a relu activation.\n",
    "    return tf.nn.relu(x)\n",
    "\n",
    "def get_max_pooling(x, k, stride, padding):\n",
    "    # returns a max pooling node.\n",
    "    return tf.nn.max_pool(x, ksize = [1, k, k, 1], strides = [1, stride, stride, 1], padding = padding)\n",
    "\n",
    "def get_average_pooling(x, k, stride, padding):\n",
    "    return tf.nn.avg_pool(x, ksize = [1, k, k, 1], strides = [1, stride, stride, 1], padding = padding)\n",
    "\n",
    "def get_dropout(x, probability):\n",
    "    # returns a dropout node.\n",
    "    return tf.nn.dropout(x, probability)\n",
    "\n",
    "def get_fully_connected(x, shape):\n",
    "    # returns a fully connected layer.\n",
    "    w  = get_tensor(shape)\n",
    "    b  = get_zero_tensor(shape[-1])\n",
    "    fc = tf.matmul(x, w)\n",
    "    fc = tf.nn.bias_add(fc, b)\n",
    "    return fc"
   ]
  },
  {
   "cell_type": "code",
   "execution_count": 60,
   "metadata": {
    "collapsed": false
   },
   "outputs": [],
   "source": [
    "### Define your architecture here.\n",
    "### Feel free to use as many code cells as needed.\n",
    "from tensorflow.contrib.layers import flatten\n",
    "\n",
    "def buildClassifier(x, n_classes, input_depth = 3):  \n",
    "    # Builds the classifier.\n",
    "    dropout_p = 0.9\n",
    "    padding   = PADDING_VALID\n",
    "    \n",
    "    # Layer 1: Convolutional. Input = 32x32x1. Output = 28x28x6.\n",
    "    layers = get_convolution2D(x, (5, 5, input_depth, 6), 1, padding)\n",
    "    # Activation.\n",
    "    layers = get_relu(layers)\n",
    "    # Pooling. Input = 28x28x6. Output = 14x14x6.\n",
    "    layers = get_average_pooling(layers, 2, 2, padding)\n",
    "    # Dropout \n",
    "    layers = get_dropout(layers, dropout_p)\n",
    "    # Layer 2: Convolutional. Input = 14x14x6. Output = 10x10x16.\n",
    "    layers = get_convolution2D(layers, (5, 5, 6, 16), 1, padding)\n",
    "    # Activation.\n",
    "    layers = get_relu(layers)\n",
    "    # Pooling. Input = 10x10x16. Output = 5x5x16.\n",
    "    layers = get_average_pooling(layers, 2, 2, padding)\n",
    "    # Dropout \n",
    "    layers = get_dropout(layers, dropout_p)\n",
    "    # Flatten. Input = 5x5x16. Output = 400.\n",
    "    layers = flatten(layers)\n",
    "    # Layer 3: Fully Connected. Input = 400. Output = 120.\n",
    "    layers = get_fully_connected(layers, shape=(400, 120))    \n",
    "    # Activation.\n",
    "    layers = get_relu(layers)\n",
    "    # Layer 4: Fully Connected. Input = 120. Output = 84.\n",
    "    layers = get_fully_connected(layers, shape=(120, 84)) \n",
    "    # SOLUTION: Activation.\n",
    "    layers = get_relu(layers)\n",
    "    # Layer 5: Fully Connected. Input = 84. Output = 43.\n",
    "    layers = get_fully_connected(layers, shape=(84, n_classes)) \n",
    "    return layers"
   ]
  },
  {
   "cell_type": "markdown",
   "metadata": {},
   "source": [
    "### Features and Labels"
   ]
  },
  {
   "cell_type": "code",
   "execution_count": 61,
   "metadata": {
    "collapsed": false
   },
   "outputs": [],
   "source": [
    "x         = tf.placeholder(tf.float32, (None, 32, 32, input_depth))\n",
    "y         = tf.placeholder(tf.int32, (None))\n",
    "one_hot_y = tf.one_hot(y, n_classes)"
   ]
  },
  {
   "cell_type": "markdown",
   "metadata": {},
   "source": [
    "### Training Pipeline"
   ]
  },
  {
   "cell_type": "markdown",
   "metadata": {},
   "source": [
    "A validation set can be used to assess how well the model is performing. A low accuracy on the training and validation\n",
    "sets imply underfitting. A high accuracy on the test set but low accuracy on the validation set implies overfitting."
   ]
  },
  {
   "cell_type": "code",
   "execution_count": 62,
   "metadata": {
    "collapsed": false
   },
   "outputs": [],
   "source": [
    "rate = 0.001\n",
    "\n",
    "logits             = buildClassifier(x, n_classes, input_depth)\n",
    "cross_entropy      = tf.nn.softmax_cross_entropy_with_logits(logits, one_hot_y)\n",
    "loss_operation     = tf.reduce_mean(cross_entropy)\n",
    "optimizer          = tf.train.AdamOptimizer(learning_rate = rate)\n",
    "training_operation = optimizer.minimize(loss_operation)"
   ]
  },
  {
   "cell_type": "markdown",
   "metadata": {},
   "source": [
    "### Model Evaluation"
   ]
  },
  {
   "cell_type": "code",
   "execution_count": 63,
   "metadata": {
    "collapsed": false
   },
   "outputs": [],
   "source": [
    "correct_prediction = tf.equal(tf.argmax(logits, 1), tf.argmax(one_hot_y, 1))\n",
    "accuracy_operation = tf.reduce_mean(tf.cast(correct_prediction, tf.float32))\n",
    "saver              = tf.train.Saver()\n",
    "\n",
    "def evaluate(X_data, y_data):\n",
    "    num_examples   = len(X_data)\n",
    "    total_accuracy = 0\n",
    "    sess           = tf.get_default_session()\n",
    "    \n",
    "    for offset in range(0, num_examples, BATCH_SIZE):\n",
    "        batch_x, batch_y = X_data[offset:offset + BATCH_SIZE], y_data[offset:offset + BATCH_SIZE]\n",
    "        accuracy         = sess.run(accuracy_operation, feed_dict = { x: batch_x, y: batch_y })\n",
    "        total_accuracy  += (accuracy * len(batch_x))\n",
    "        \n",
    "    return total_accuracy / num_examples"
   ]
  },
  {
   "cell_type": "markdown",
   "metadata": {},
   "source": [
    "### Model Training"
   ]
  },
  {
   "cell_type": "code",
   "execution_count": 65,
   "metadata": {
    "collapsed": false
   },
   "outputs": [
    {
     "name": "stdout",
     "output_type": "stream",
     "text": [
      "Training...\n",
      "\n",
      "EPOCH 1 - Accuracy = 0.536\n",
      "EPOCH 2 - Accuracy = 0.668\n",
      "EPOCH 3 - Accuracy = 0.747\n",
      "EPOCH 4 - Accuracy = 0.784\n",
      "EPOCH 5 - Accuracy = 0.833\n",
      "EPOCH 6 - Accuracy = 0.837\n",
      "EPOCH 7 - Accuracy = 0.862\n",
      "EPOCH 8 - Accuracy = 0.875\n",
      "EPOCH 9 - Accuracy = 0.884\n",
      "EPOCH 10 - Accuracy = 0.887\n",
      "EPOCH 11 - Accuracy = 0.886\n",
      "EPOCH 12 - Accuracy = 0.890\n",
      "EPOCH 13 - Accuracy = 0.905\n",
      "EPOCH 14 - Accuracy = 0.924\n",
      "EPOCH 15 - Accuracy = 0.913\n",
      "EPOCH 16 - Accuracy = 0.914\n",
      "EPOCH 17 - Accuracy = 0.931\n",
      "EPOCH 18 - Accuracy = 0.930\n",
      "EPOCH 19 - Accuracy = 0.923\n",
      "EPOCH 20 - Accuracy = 0.941\n",
      "EPOCH 21 - Accuracy = 0.942\n",
      "EPOCH 22 - Accuracy = 0.948\n",
      "EPOCH 23 - Accuracy = 0.948\n",
      "EPOCH 24 - Accuracy = 0.942\n",
      "EPOCH 25 - Accuracy = 0.942\n",
      "EPOCH 26 - Accuracy = 0.938\n",
      "EPOCH 27 - Accuracy = 0.942\n",
      "EPOCH 28 - Accuracy = 0.943\n",
      "EPOCH 29 - Accuracy = 0.948\n",
      "EPOCH 30 - Accuracy = 0.954\n",
      "EPOCH 31 - Accuracy = 0.945\n",
      "EPOCH 32 - Accuracy = 0.960\n",
      "EPOCH 33 - Accuracy = 0.954\n",
      "EPOCH 34 - Accuracy = 0.962\n",
      "EPOCH 35 - Accuracy = 0.955\n",
      "EPOCH 36 - Accuracy = 0.953\n",
      "EPOCH 37 - Accuracy = 0.949\n",
      "EPOCH 38 - Accuracy = 0.959\n",
      "EPOCH 39 - Accuracy = 0.960\n",
      "EPOCH 40 - Accuracy = 0.962\n",
      "EPOCH 41 - Accuracy = 0.965\n",
      "EPOCH 42 - Accuracy = 0.958\n",
      "EPOCH 43 - Accuracy = 0.966\n",
      "EPOCH 44 - Accuracy = 0.955\n",
      "EPOCH 45 - Accuracy = 0.963\n",
      "EPOCH 46 - Accuracy = 0.956\n",
      "EPOCH 47 - Accuracy = 0.965\n",
      "EPOCH 48 - Accuracy = 0.960\n",
      "EPOCH 49 - Accuracy = 0.956\n",
      "EPOCH 50 - Accuracy = 0.970\n",
      "Model saved\n"
     ]
    }
   ],
   "source": [
    "EPOCHS     = 50\n",
    "BATCH_SIZE = 200\n",
    "SAMPLES    = 0\n",
    "\n",
    "data_generator = generate_batch(X_train, y_train, SAMPLES, BATCH_SIZE)\n",
    "\n",
    "with tf.Session() as sess:\n",
    "    sess.run(tf.global_variables_initializer())\n",
    "    num_examples = len(X_train) * (SAMPLES + 1)\n",
    "    \n",
    "    print(\"Training...\")\n",
    "    print()\n",
    "    for i in range(EPOCHS):\n",
    "        X_train, y_train = shuffle(X_train, y_train)\n",
    "        for offset in range(0, num_examples, BATCH_SIZE):\n",
    "            end = offset + BATCH_SIZE\n",
    "            #batch_x, batch_y = X_train[offset:end], y_train[offset:end]\n",
    "            batch_x, batch_y = next(data_generator)\n",
    "            sess.run(training_operation, feed_dict={x: batch_x, y: batch_y})\n",
    "            \n",
    "        validation_accuracy = evaluate(X_validation, y_validation)\n",
    "        print(\"EPOCH {} - Accuracy = {:.3f}\".format(i + 1, validation_accuracy))\n",
    "        \n",
    "    saver.save(sess, './traffic-sign-classifier')\n",
    "    print(\"Model saved\")"
   ]
  },
  {
   "cell_type": "markdown",
   "metadata": {},
   "source": [
    "---\n",
    "\n",
    "## Step 3: Test a Model on New Images\n",
    "\n",
    "To give yourself more insight into how your model is working, download at least five pictures of German traffic signs from the web and use your model to predict the traffic sign type.\n",
    "\n",
    "You may find `signnames.csv` useful as it contains mappings from the class id (integer) to the actual sign name."
   ]
  },
  {
   "cell_type": "markdown",
   "metadata": {},
   "source": [
    "### Load and Output the Images"
   ]
  },
  {
   "cell_type": "code",
   "execution_count": null,
   "metadata": {
    "collapsed": true
   },
   "outputs": [],
   "source": [
    "### Load the images and plot them here.\n",
    "### Feel free to use as many code cells as needed."
   ]
  },
  {
   "cell_type": "markdown",
   "metadata": {},
   "source": [
    "### Predict the Sign Type for Each Image"
   ]
  },
  {
   "cell_type": "code",
   "execution_count": null,
   "metadata": {
    "collapsed": true
   },
   "outputs": [],
   "source": [
    "### Run the predictions here and use the model to output the prediction for each image.\n",
    "### Make sure to pre-process the images with the same pre-processing pipeline used earlier.\n",
    "### Feel free to use as many code cells as needed."
   ]
  },
  {
   "cell_type": "markdown",
   "metadata": {},
   "source": [
    "### Analyze Performance"
   ]
  },
  {
   "cell_type": "code",
   "execution_count": null,
   "metadata": {
    "collapsed": true
   },
   "outputs": [],
   "source": [
    "### Calculate the accuracy for these 5 new images. \n",
    "### For example, if the model predicted 1 out of 5 signs correctly, it's 20% accurate on these new images."
   ]
  },
  {
   "cell_type": "markdown",
   "metadata": {},
   "source": [
    "### Output Top 5 Softmax Probabilities For Each Image Found on the Web"
   ]
  },
  {
   "cell_type": "markdown",
   "metadata": {},
   "source": [
    "For each of the new images, print out the model's softmax probabilities to show the **certainty** of the model's predictions (limit the output to the top 5 probabilities for each image). [`tf.nn.top_k`](https://www.tensorflow.org/versions/r0.12/api_docs/python/nn.html#top_k) could prove helpful here. \n",
    "\n",
    "The example below demonstrates how tf.nn.top_k can be used to find the top k predictions for each image.\n",
    "\n",
    "`tf.nn.top_k` will return the values and indices (class ids) of the top k predictions. So if k=3, for each sign, it'll return the 3 largest probabilities (out of a possible 43) and the correspoding class ids.\n",
    "\n",
    "Take this numpy array as an example. The values in the array represent predictions. The array contains softmax probabilities for five candidate images with six possible classes. `tk.nn.top_k` is used to choose the three classes with the highest probability:\n",
    "\n",
    "```\n",
    "# (5, 6) array\n",
    "a = np.array([[ 0.24879643,  0.07032244,  0.12641572,  0.34763842,  0.07893497,\n",
    "         0.12789202],\n",
    "       [ 0.28086119,  0.27569815,  0.08594638,  0.0178669 ,  0.18063401,\n",
    "         0.15899337],\n",
    "       [ 0.26076848,  0.23664738,  0.08020603,  0.07001922,  0.1134371 ,\n",
    "         0.23892179],\n",
    "       [ 0.11943333,  0.29198961,  0.02605103,  0.26234032,  0.1351348 ,\n",
    "         0.16505091],\n",
    "       [ 0.09561176,  0.34396535,  0.0643941 ,  0.16240774,  0.24206137,\n",
    "         0.09155967]])\n",
    "```\n",
    "\n",
    "Running it through `sess.run(tf.nn.top_k(tf.constant(a), k=3))` produces:\n",
    "\n",
    "```\n",
    "TopKV2(values=array([[ 0.34763842,  0.24879643,  0.12789202],\n",
    "       [ 0.28086119,  0.27569815,  0.18063401],\n",
    "       [ 0.26076848,  0.23892179,  0.23664738],\n",
    "       [ 0.29198961,  0.26234032,  0.16505091],\n",
    "       [ 0.34396535,  0.24206137,  0.16240774]]), indices=array([[3, 0, 5],\n",
    "       [0, 1, 4],\n",
    "       [0, 5, 1],\n",
    "       [1, 3, 5],\n",
    "       [1, 4, 3]], dtype=int32))\n",
    "```\n",
    "\n",
    "Looking just at the first row we get `[ 0.34763842,  0.24879643,  0.12789202]`, you can confirm these are the 3 largest probabilities in `a`. You'll also notice `[3, 0, 5]` are the corresponding indices."
   ]
  },
  {
   "cell_type": "code",
   "execution_count": null,
   "metadata": {
    "collapsed": true
   },
   "outputs": [],
   "source": [
    "### Print out the top five softmax probabilities for the predictions on the German traffic sign images found on the web. \n",
    "### Feel free to use as many code cells as needed."
   ]
  },
  {
   "cell_type": "markdown",
   "metadata": {},
   "source": [
    "> **Note**: Once you have completed all of the code implementations, you need to finalize your work by exporting the IPython Notebook as an HTML document. Before exporting the notebook to html, all of the code cells need to have been run. You can then export the notebook by using the menu above and navigating to  \\n\",\n",
    "    \"**File -> Download as -> HTML (.html)**. Include the finished document along with this notebook as your submission. "
   ]
  },
  {
   "cell_type": "markdown",
   "metadata": {},
   "source": [
    "### Project Writeup\n",
    "\n",
    "Once you have completed the code implementation, document your results in a project writeup using this [template](https://github.com/udacity/CarND-Traffic-Sign-Classifier-Project/blob/master/writeup_template.md) as a guide. The writeup can be in a markdown or pdf file. "
   ]
  }
 ],
 "metadata": {
  "anaconda-cloud": {},
  "kernelspec": {
   "display_name": "Python 3",
   "language": "python",
   "name": "python3"
  },
  "language_info": {
   "codemirror_mode": {
    "name": "ipython",
    "version": 3
   },
   "file_extension": ".py",
   "mimetype": "text/x-python",
   "name": "python",
   "nbconvert_exporter": "python",
   "pygments_lexer": "ipython3",
   "version": "3.5.2"
  },
  "widgets": {
   "state": {},
   "version": "1.1.2"
  }
 },
 "nbformat": 4,
 "nbformat_minor": 1
}
